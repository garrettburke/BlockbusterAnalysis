{
  "metadata": {
    "kernelspec": {
      "name": "python",
      "display_name": "Python (Pyodide)",
      "language": "python"
    },
    "language_info": {
      "codemirror_mode": {
        "name": "python",
        "version": 3
      },
      "file_extension": ".py",
      "mimetype": "text/x-python",
      "name": "python",
      "nbconvert_exporter": "python",
      "pygments_lexer": "ipython3",
      "version": "3.8"
    }
  },
  "nbformat_minor": 4,
  "nbformat": 4,
  "cells": [
    {
      "cell_type": "markdown",
      "source": "# Project: Investigate a Dataset - TMDb Movie Data\n\n## Table of Contents\n<ul>\n<li><a href=\"#intro\">Introduction</a></li>\n<li><a href=\"#wrangling\">Data Wrangling</a></li>\n<li><a href=\"#eda\">Exploratory Data Analysis</a></li>\n<li><a href=\"#conclusions\">Conclusions</a></li>\n<li><a href=\"#limitations\">Limitations</a></li>\n</ul>",
      "metadata": {
        "tags": []
      }
    },
    {
      "cell_type": "markdown",
      "source": "<a id='intro'></a>\n## Introduction\n\n### Dataset Description \n\nThe TMDb data set contains information for 10,865 movies from \"The Movie Database\" website. The data includes the following columns. Any columns with \"all\" in the description are separated by | pipes.\n\n* budget (total film budget)\n* budget_adj (total film budget in 2010 dollars)\n* cast (all film cast members of the film)\n* director (all directors of the film)\n* genres (all genres of the film)\n* homepage (web page for the movie)\n* id (TMDb database id)\n* imdb_id (IMDb database id)\n* keywords (all keywords)\n* popularity (popularity score)\n* overview (brief summary describing the movie's story)\n* original_title (original title of the movie)\n* production_companies (all production companies)\n* release_date (release date including month/day/year)\n* release_year (release year)\n* revenue (total revenue in actual dollars)\n* revenue_adj (total revenue in 2010 dollars)\n* runtime (film runtime in minutes)\n* tagline (brief phrase relating to plot to generate buzz about the movie)\n* vote_average (average user rating)\n* vote_count (total number of user votes)\n\n### Question for Analysis: What traits predict a film has a higher chance of being a \"blockbuster\"?\nThe purpose of this analysis is determining whether blockbuster films have traits correlated with high revenue. I will define a \"blockbuster\" as \\\\$1 billion or higher in the adjusted revenue column (revenue_adj) and a \"mega\" blockbuster as \\\\$2 billion or higher in adjusted revenue.",
      "metadata": {}
    },
    {
      "cell_type": "markdown",
      "source": "### Loading necessary libraries",
      "metadata": {}
    },
    {
      "cell_type": "code",
      "source": "import pandas as pd\nimport matplotlib.pyplot as plt",
      "metadata": {},
      "outputs": [],
      "execution_count": 78
    },
    {
      "cell_type": "markdown",
      "source": "<a id='wrangling'></a>\n## Data Wrangling",
      "metadata": {}
    },
    {
      "cell_type": "markdown",
      "source": "### Loading TMDb data and taking a peek at the data",
      "metadata": {}
    },
    {
      "cell_type": "code",
      "source": "# import TMDb movie data csv\ndf = pd.read_csv('Database_TMDb_movie_data/tmdb-movies.csv')\n# print out first few lines of TMDb data\ndf.head()",
      "metadata": {
        "tags": []
      },
      "outputs": [
        {
          "data": {
            "text/html": [
              "<div>\n",
              "<style scoped>\n",
              "    .dataframe tbody tr th:only-of-type {\n",
              "        vertical-align: middle;\n",
              "    }\n",
              "\n",
              "    .dataframe tbody tr th {\n",
              "        vertical-align: top;\n",
              "    }\n",
              "\n",
              "    .dataframe thead th {\n",
              "        text-align: right;\n",
              "    }\n",
              "</style>\n",
              "<table border=\"1\" class=\"dataframe\">\n",
              "  <thead>\n",
              "    <tr style=\"text-align: right;\">\n",
              "      <th></th>\n",
              "      <th>id</th>\n",
              "      <th>imdb_id</th>\n",
              "      <th>popularity</th>\n",
              "      <th>budget</th>\n",
              "      <th>revenue</th>\n",
              "      <th>original_title</th>\n",
              "      <th>cast</th>\n",
              "      <th>homepage</th>\n",
              "      <th>director</th>\n",
              "      <th>tagline</th>\n",
              "      <th>...</th>\n",
              "      <th>overview</th>\n",
              "      <th>runtime</th>\n",
              "      <th>genres</th>\n",
              "      <th>production_companies</th>\n",
              "      <th>release_date</th>\n",
              "      <th>vote_count</th>\n",
              "      <th>vote_average</th>\n",
              "      <th>release_year</th>\n",
              "      <th>budget_adj</th>\n",
              "      <th>revenue_adj</th>\n",
              "    </tr>\n",
              "  </thead>\n",
              "  <tbody>\n",
              "    <tr>\n",
              "      <th>0</th>\n",
              "      <td>135397</td>\n",
              "      <td>tt0369610</td>\n",
              "      <td>32.985763</td>\n",
              "      <td>150000000</td>\n",
              "      <td>1513528810</td>\n",
              "      <td>Jurassic World</td>\n",
              "      <td>Chris Pratt|Bryce Dallas Howard|Irrfan Khan|Vi...</td>\n",
              "      <td>http://www.jurassicworld.com/</td>\n",
              "      <td>Colin Trevorrow</td>\n",
              "      <td>The park is open.</td>\n",
              "      <td>...</td>\n",
              "      <td>Twenty-two years after the events of Jurassic ...</td>\n",
              "      <td>124</td>\n",
              "      <td>Action|Adventure|Science Fiction|Thriller</td>\n",
              "      <td>Universal Studios|Amblin Entertainment|Legenda...</td>\n",
              "      <td>6/9/15</td>\n",
              "      <td>5562</td>\n",
              "      <td>6.5</td>\n",
              "      <td>2015</td>\n",
              "      <td>1.379999e+08</td>\n",
              "      <td>1.392446e+09</td>\n",
              "    </tr>\n",
              "    <tr>\n",
              "      <th>1</th>\n",
              "      <td>76341</td>\n",
              "      <td>tt1392190</td>\n",
              "      <td>28.419936</td>\n",
              "      <td>150000000</td>\n",
              "      <td>378436354</td>\n",
              "      <td>Mad Max: Fury Road</td>\n",
              "      <td>Tom Hardy|Charlize Theron|Hugh Keays-Byrne|Nic...</td>\n",
              "      <td>http://www.madmaxmovie.com/</td>\n",
              "      <td>George Miller</td>\n",
              "      <td>What a Lovely Day.</td>\n",
              "      <td>...</td>\n",
              "      <td>An apocalyptic story set in the furthest reach...</td>\n",
              "      <td>120</td>\n",
              "      <td>Action|Adventure|Science Fiction|Thriller</td>\n",
              "      <td>Village Roadshow Pictures|Kennedy Miller Produ...</td>\n",
              "      <td>5/13/15</td>\n",
              "      <td>6185</td>\n",
              "      <td>7.1</td>\n",
              "      <td>2015</td>\n",
              "      <td>1.379999e+08</td>\n",
              "      <td>3.481613e+08</td>\n",
              "    </tr>\n",
              "    <tr>\n",
              "      <th>2</th>\n",
              "      <td>262500</td>\n",
              "      <td>tt2908446</td>\n",
              "      <td>13.112507</td>\n",
              "      <td>110000000</td>\n",
              "      <td>295238201</td>\n",
              "      <td>Insurgent</td>\n",
              "      <td>Shailene Woodley|Theo James|Kate Winslet|Ansel...</td>\n",
              "      <td>http://www.thedivergentseries.movie/#insurgent</td>\n",
              "      <td>Robert Schwentke</td>\n",
              "      <td>One Choice Can Destroy You</td>\n",
              "      <td>...</td>\n",
              "      <td>Beatrice Prior must confront her inner demons ...</td>\n",
              "      <td>119</td>\n",
              "      <td>Adventure|Science Fiction|Thriller</td>\n",
              "      <td>Summit Entertainment|Mandeville Films|Red Wago...</td>\n",
              "      <td>3/18/15</td>\n",
              "      <td>2480</td>\n",
              "      <td>6.3</td>\n",
              "      <td>2015</td>\n",
              "      <td>1.012000e+08</td>\n",
              "      <td>2.716190e+08</td>\n",
              "    </tr>\n",
              "    <tr>\n",
              "      <th>3</th>\n",
              "      <td>140607</td>\n",
              "      <td>tt2488496</td>\n",
              "      <td>11.173104</td>\n",
              "      <td>200000000</td>\n",
              "      <td>2068178225</td>\n",
              "      <td>Star Wars: The Force Awakens</td>\n",
              "      <td>Harrison Ford|Mark Hamill|Carrie Fisher|Adam D...</td>\n",
              "      <td>http://www.starwars.com/films/star-wars-episod...</td>\n",
              "      <td>J.J. Abrams</td>\n",
              "      <td>Every generation has a story.</td>\n",
              "      <td>...</td>\n",
              "      <td>Thirty years after defeating the Galactic Empi...</td>\n",
              "      <td>136</td>\n",
              "      <td>Action|Adventure|Science Fiction|Fantasy</td>\n",
              "      <td>Lucasfilm|Truenorth Productions|Bad Robot</td>\n",
              "      <td>12/15/15</td>\n",
              "      <td>5292</td>\n",
              "      <td>7.5</td>\n",
              "      <td>2015</td>\n",
              "      <td>1.839999e+08</td>\n",
              "      <td>1.902723e+09</td>\n",
              "    </tr>\n",
              "    <tr>\n",
              "      <th>4</th>\n",
              "      <td>168259</td>\n",
              "      <td>tt2820852</td>\n",
              "      <td>9.335014</td>\n",
              "      <td>190000000</td>\n",
              "      <td>1506249360</td>\n",
              "      <td>Furious 7</td>\n",
              "      <td>Vin Diesel|Paul Walker|Jason Statham|Michelle ...</td>\n",
              "      <td>http://www.furious7.com/</td>\n",
              "      <td>James Wan</td>\n",
              "      <td>Vengeance Hits Home</td>\n",
              "      <td>...</td>\n",
              "      <td>Deckard Shaw seeks revenge against Dominic Tor...</td>\n",
              "      <td>137</td>\n",
              "      <td>Action|Crime|Thriller</td>\n",
              "      <td>Universal Pictures|Original Film|Media Rights ...</td>\n",
              "      <td>4/1/15</td>\n",
              "      <td>2947</td>\n",
              "      <td>7.3</td>\n",
              "      <td>2015</td>\n",
              "      <td>1.747999e+08</td>\n",
              "      <td>1.385749e+09</td>\n",
              "    </tr>\n",
              "  </tbody>\n",
              "</table>\n",
              "<p>5 rows × 21 columns</p>\n",
              "</div>"
            ],
            "text/plain": [
              "       id    imdb_id  popularity     budget     revenue  \\\n",
              "0  135397  tt0369610   32.985763  150000000  1513528810   \n",
              "1   76341  tt1392190   28.419936  150000000   378436354   \n",
              "2  262500  tt2908446   13.112507  110000000   295238201   \n",
              "3  140607  tt2488496   11.173104  200000000  2068178225   \n",
              "4  168259  tt2820852    9.335014  190000000  1506249360   \n",
              "\n",
              "                 original_title  \\\n",
              "0                Jurassic World   \n",
              "1            Mad Max: Fury Road   \n",
              "2                     Insurgent   \n",
              "3  Star Wars: The Force Awakens   \n",
              "4                     Furious 7   \n",
              "\n",
              "                                                cast  \\\n",
              "0  Chris Pratt|Bryce Dallas Howard|Irrfan Khan|Vi...   \n",
              "1  Tom Hardy|Charlize Theron|Hugh Keays-Byrne|Nic...   \n",
              "2  Shailene Woodley|Theo James|Kate Winslet|Ansel...   \n",
              "3  Harrison Ford|Mark Hamill|Carrie Fisher|Adam D...   \n",
              "4  Vin Diesel|Paul Walker|Jason Statham|Michelle ...   \n",
              "\n",
              "                                            homepage          director  \\\n",
              "0                      http://www.jurassicworld.com/   Colin Trevorrow   \n",
              "1                        http://www.madmaxmovie.com/     George Miller   \n",
              "2     http://www.thedivergentseries.movie/#insurgent  Robert Schwentke   \n",
              "3  http://www.starwars.com/films/star-wars-episod...       J.J. Abrams   \n",
              "4                           http://www.furious7.com/         James Wan   \n",
              "\n",
              "                         tagline  ...  \\\n",
              "0              The park is open.  ...   \n",
              "1             What a Lovely Day.  ...   \n",
              "2     One Choice Can Destroy You  ...   \n",
              "3  Every generation has a story.  ...   \n",
              "4            Vengeance Hits Home  ...   \n",
              "\n",
              "                                            overview runtime  \\\n",
              "0  Twenty-two years after the events of Jurassic ...     124   \n",
              "1  An apocalyptic story set in the furthest reach...     120   \n",
              "2  Beatrice Prior must confront her inner demons ...     119   \n",
              "3  Thirty years after defeating the Galactic Empi...     136   \n",
              "4  Deckard Shaw seeks revenge against Dominic Tor...     137   \n",
              "\n",
              "                                      genres  \\\n",
              "0  Action|Adventure|Science Fiction|Thriller   \n",
              "1  Action|Adventure|Science Fiction|Thriller   \n",
              "2         Adventure|Science Fiction|Thriller   \n",
              "3   Action|Adventure|Science Fiction|Fantasy   \n",
              "4                      Action|Crime|Thriller   \n",
              "\n",
              "                                production_companies release_date vote_count  \\\n",
              "0  Universal Studios|Amblin Entertainment|Legenda...       6/9/15       5562   \n",
              "1  Village Roadshow Pictures|Kennedy Miller Produ...      5/13/15       6185   \n",
              "2  Summit Entertainment|Mandeville Films|Red Wago...      3/18/15       2480   \n",
              "3          Lucasfilm|Truenorth Productions|Bad Robot     12/15/15       5292   \n",
              "4  Universal Pictures|Original Film|Media Rights ...       4/1/15       2947   \n",
              "\n",
              "   vote_average  release_year    budget_adj   revenue_adj  \n",
              "0           6.5          2015  1.379999e+08  1.392446e+09  \n",
              "1           7.1          2015  1.379999e+08  3.481613e+08  \n",
              "2           6.3          2015  1.012000e+08  2.716190e+08  \n",
              "3           7.5          2015  1.839999e+08  1.902723e+09  \n",
              "4           7.3          2015  1.747999e+08  1.385749e+09  \n",
              "\n",
              "[5 rows x 21 columns]"
            ]
          },
          "execution_count": 88,
          "metadata": {},
          "output_type": "execute_result"
        }
      ],
      "execution_count": 88
    },
    {
      "cell_type": "markdown",
      "source": "### Checking data shape (# of rows and columns)",
      "metadata": {}
    },
    {
      "cell_type": "code",
      "source": "df.shape # (rows, cols)",
      "metadata": {},
      "outputs": [
        {
          "data": {
            "text/plain": [
              "(10865, 21)"
            ]
          },
          "execution_count": 164,
          "metadata": {},
          "output_type": "execute_result"
        }
      ],
      "execution_count": 164
    },
    {
      "cell_type": "markdown",
      "source": "### Checking data types of columns, and # of non-null values",
      "metadata": {}
    },
    {
      "cell_type": "code",
      "source": "df.info()",
      "metadata": {
        "scrolled": true
      },
      "outputs": [
        {
          "name": "stdout",
          "output_type": "stream",
          "text": "<class 'pandas.core.frame.DataFrame'>\n,RangeIndex: 10866 entries, 0 to 10865\n,Data columns (total 21 columns):\n, #   Column                Non-Null Count  Dtype  \n,---  ------                --------------  -----  \n, 0   id                    10866 non-null  int64  \n, 1   imdb_id               10856 non-null  object \n, 2   popularity            10866 non-null  float64\n, 3   budget                10866 non-null  int64  \n, 4   revenue               10866 non-null  int64  \n, 5   original_title        10866 non-null  object \n, 6   cast                  10790 non-null  object \n, 7   homepage              2936 non-null   object \n, 8   director              10822 non-null  object \n, 9   tagline               8042 non-null   object \n, 10  keywords              9373 non-null   object \n, 11  overview              10862 non-null  object \n, 12  runtime               10866 non-null  int64  \n, 13  genres                10843 non-null  object \n, 14  production_companies  9836 non-null   object \n, 15  release_date          10866 non-null  object \n, 16  vote_count            10866 non-null  int64  \n, 17  vote_average          10866 non-null  float64\n, 18  release_year          10866 non-null  int64  \n, 19  budget_adj            10866 non-null  float64\n, 20  revenue_adj           10866 non-null  float64\n,dtypes: float64(4), int64(6), object(11)\n,memory usage: 1.7+ MB\n"
        }
      ],
      "execution_count": 90
    },
    {
      "cell_type": "markdown",
      "source": "I'm skeptical that 64 bit values are needed for every column currently using them.",
      "metadata": {}
    },
    {
      "cell_type": "markdown",
      "source": "### Checking the number of unique values",
      "metadata": {}
    },
    {
      "cell_type": "code",
      "source": "df.nunique()",
      "metadata": {},
      "outputs": [
        {
          "data": {
            "text/plain": [
              "id                      10865\n",
              "imdb_id                 10855\n",
              "popularity              10814\n",
              "budget                    557\n",
              "revenue                  4702\n",
              "original_title          10571\n",
              "cast                    10719\n",
              "homepage                 2896\n",
              "director                 5067\n",
              "tagline                  7997\n",
              "keywords                 8804\n",
              "overview                10847\n",
              "runtime                   247\n",
              "genres                   2039\n",
              "production_companies     7445\n",
              "release_date             5909\n",
              "vote_count               1289\n",
              "vote_average               72\n",
              "release_year               56\n",
              "budget_adj               2614\n",
              "revenue_adj              4840\n",
              "dtype: int64"
            ]
          },
          "execution_count": 91,
          "metadata": {},
          "output_type": "execute_result"
        }
      ],
      "execution_count": 91
    },
    {
      "cell_type": "markdown",
      "source": "### Check stats including counts, min/max, average values",
      "metadata": {}
    },
    {
      "cell_type": "code",
      "source": "# setting pandas to display in standard notation for readability\npd.options.display.float_format = '{:.2f}'.format\n\ndf.describe()",
      "metadata": {},
      "outputs": [
        {
          "data": {
            "text/html": [
              "<div>\n",
              "<style scoped>\n",
              "    .dataframe tbody tr th:only-of-type {\n",
              "        vertical-align: middle;\n",
              "    }\n",
              "\n",
              "    .dataframe tbody tr th {\n",
              "        vertical-align: top;\n",
              "    }\n",
              "\n",
              "    .dataframe thead th {\n",
              "        text-align: right;\n",
              "    }\n",
              "</style>\n",
              "<table border=\"1\" class=\"dataframe\">\n",
              "  <thead>\n",
              "    <tr style=\"text-align: right;\">\n",
              "      <th></th>\n",
              "      <th>id</th>\n",
              "      <th>popularity</th>\n",
              "      <th>budget</th>\n",
              "      <th>revenue</th>\n",
              "      <th>runtime</th>\n",
              "      <th>vote_count</th>\n",
              "      <th>vote_average</th>\n",
              "      <th>release_year</th>\n",
              "      <th>budget_adj</th>\n",
              "      <th>revenue_adj</th>\n",
              "    </tr>\n",
              "  </thead>\n",
              "  <tbody>\n",
              "    <tr>\n",
              "      <th>count</th>\n",
              "      <td>10866.00</td>\n",
              "      <td>10866.00</td>\n",
              "      <td>10866.00</td>\n",
              "      <td>10866.00</td>\n",
              "      <td>10866.00</td>\n",
              "      <td>10866.00</td>\n",
              "      <td>10866.00</td>\n",
              "      <td>10866.00</td>\n",
              "      <td>10866.00</td>\n",
              "      <td>10866.00</td>\n",
              "    </tr>\n",
              "    <tr>\n",
              "      <th>mean</th>\n",
              "      <td>66064.18</td>\n",
              "      <td>0.65</td>\n",
              "      <td>14625701.09</td>\n",
              "      <td>39823319.79</td>\n",
              "      <td>102.07</td>\n",
              "      <td>217.39</td>\n",
              "      <td>5.97</td>\n",
              "      <td>2001.32</td>\n",
              "      <td>17551039.82</td>\n",
              "      <td>51364363.25</td>\n",
              "    </tr>\n",
              "    <tr>\n",
              "      <th>std</th>\n",
              "      <td>92130.14</td>\n",
              "      <td>1.00</td>\n",
              "      <td>30913213.83</td>\n",
              "      <td>117003486.58</td>\n",
              "      <td>31.38</td>\n",
              "      <td>575.62</td>\n",
              "      <td>0.94</td>\n",
              "      <td>12.81</td>\n",
              "      <td>34306155.72</td>\n",
              "      <td>144632485.04</td>\n",
              "    </tr>\n",
              "    <tr>\n",
              "      <th>min</th>\n",
              "      <td>5.00</td>\n",
              "      <td>0.00</td>\n",
              "      <td>0.00</td>\n",
              "      <td>0.00</td>\n",
              "      <td>0.00</td>\n",
              "      <td>10.00</td>\n",
              "      <td>1.50</td>\n",
              "      <td>1960.00</td>\n",
              "      <td>0.00</td>\n",
              "      <td>0.00</td>\n",
              "    </tr>\n",
              "    <tr>\n",
              "      <th>25%</th>\n",
              "      <td>10596.25</td>\n",
              "      <td>0.21</td>\n",
              "      <td>0.00</td>\n",
              "      <td>0.00</td>\n",
              "      <td>90.00</td>\n",
              "      <td>17.00</td>\n",
              "      <td>5.40</td>\n",
              "      <td>1995.00</td>\n",
              "      <td>0.00</td>\n",
              "      <td>0.00</td>\n",
              "    </tr>\n",
              "    <tr>\n",
              "      <th>50%</th>\n",
              "      <td>20669.00</td>\n",
              "      <td>0.38</td>\n",
              "      <td>0.00</td>\n",
              "      <td>0.00</td>\n",
              "      <td>99.00</td>\n",
              "      <td>38.00</td>\n",
              "      <td>6.00</td>\n",
              "      <td>2006.00</td>\n",
              "      <td>0.00</td>\n",
              "      <td>0.00</td>\n",
              "    </tr>\n",
              "    <tr>\n",
              "      <th>75%</th>\n",
              "      <td>75610.00</td>\n",
              "      <td>0.71</td>\n",
              "      <td>15000000.00</td>\n",
              "      <td>24000000.00</td>\n",
              "      <td>111.00</td>\n",
              "      <td>145.75</td>\n",
              "      <td>6.60</td>\n",
              "      <td>2011.00</td>\n",
              "      <td>20853251.08</td>\n",
              "      <td>33697095.72</td>\n",
              "    </tr>\n",
              "    <tr>\n",
              "      <th>max</th>\n",
              "      <td>417859.00</td>\n",
              "      <td>32.99</td>\n",
              "      <td>425000000.00</td>\n",
              "      <td>2781505847.00</td>\n",
              "      <td>900.00</td>\n",
              "      <td>9767.00</td>\n",
              "      <td>9.20</td>\n",
              "      <td>2015.00</td>\n",
              "      <td>425000000.00</td>\n",
              "      <td>2827123750.41</td>\n",
              "    </tr>\n",
              "  </tbody>\n",
              "</table>\n",
              "</div>"
            ],
            "text/plain": [
              "             id  popularity       budget       revenue  runtime  vote_count  \\\n",
              "count  10866.00    10866.00     10866.00      10866.00 10866.00    10866.00   \n",
              "mean   66064.18        0.65  14625701.09   39823319.79   102.07      217.39   \n",
              "std    92130.14        1.00  30913213.83  117003486.58    31.38      575.62   \n",
              "min        5.00        0.00         0.00          0.00     0.00       10.00   \n",
              "25%    10596.25        0.21         0.00          0.00    90.00       17.00   \n",
              "50%    20669.00        0.38         0.00          0.00    99.00       38.00   \n",
              "75%    75610.00        0.71  15000000.00   24000000.00   111.00      145.75   \n",
              "max   417859.00       32.99 425000000.00 2781505847.00   900.00     9767.00   \n",
              "\n",
              "       vote_average  release_year   budget_adj   revenue_adj  \n",
              "count      10866.00      10866.00     10866.00      10866.00  \n",
              "mean           5.97       2001.32  17551039.82   51364363.25  \n",
              "std            0.94         12.81  34306155.72  144632485.04  \n",
              "min            1.50       1960.00         0.00          0.00  \n",
              "25%            5.40       1995.00         0.00          0.00  \n",
              "50%            6.00       2006.00         0.00          0.00  \n",
              "75%            6.60       2011.00  20853251.08   33697095.72  \n",
              "max            9.20       2015.00 425000000.00 2827123750.41  "
            ]
          },
          "execution_count": 92,
          "metadata": {},
          "output_type": "execute_result"
        }
      ],
      "execution_count": 92
    },
    {
      "cell_type": "markdown",
      "source": "### Data Cleaning: Data Type Correction - Reduces Memory Usage",
      "metadata": {}
    },
    {
      "cell_type": "markdown",
      "source": "Several data types have maximum values which far exceed the maximum values present in the data. Replacing these with more appropriate data types saves space in memory. This data set is small enough this likely won't matter, but it would be useful in a large dataset. \n\nA little info about the data types we are using to replace the current types.\n\nuint32 ranges from 0 to 4,294,967,295, uint16 ranges from 0 to 65,535, float32 supports ~7 significant digits.\n\nOther common problems in the data include the following. \n* Duplicate rows\n* Missing values in the columns: imdb_id, cast, homepage, director, tagline, keywords, overview, genres, production_companies\n* Zero values in the columns: budget, budget_adj, revenue, revenue_adj, runtime\n\nDue to the informational nature of the dataset, none of the missing or zero values can be adjusted in a way that benefits analysis, but duplicate rows will be removed.",
      "metadata": {
        "tags": []
      }
    },
    {
      "cell_type": "markdown",
      "source": "### uint32 is sufficient for revenue, adjustments could be needed within a decade",
      "metadata": {}
    },
    {
      "cell_type": "code",
      "source": "# originally set to int64 - changing to uint32\ndf['budget'] = df['budget'].astype('uint32')",
      "metadata": {},
      "outputs": [],
      "execution_count": null
    },
    {
      "cell_type": "markdown",
      "source": "### uint32 is sufficient for: id, budget",
      "metadata": {}
    },
    {
      "cell_type": "code",
      "source": "# originally set to int64 - changing to uint32\ndf['id'] = df['id'].astype('uint32')\ndf['budget'] = df['budget'].astype('uint32')",
      "metadata": {},
      "outputs": [],
      "execution_count": 23
    },
    {
      "cell_type": "markdown",
      "source": "### uint16 is sufficient for: runtime, release_year, vote_count",
      "metadata": {}
    },
    {
      "cell_type": "code",
      "source": "# originally set to int64 - changing to uint16\ndf['runtime'] = df['runtime'].astype('uint16')\ndf['release_year'] = df['release_year'].astype('uint16')\ndf['vote_count'] = df['vote_count'].astype('uint16')",
      "metadata": {},
      "outputs": [],
      "execution_count": 22
    },
    {
      "cell_type": "markdown",
      "source": "### float32 is large enough for popularity and vote_average",
      "metadata": {}
    },
    {
      "cell_type": "code",
      "source": "# originally set to float64 - changing to float32\ndf['popularity'] = df['popularity'].astype('float32')\ndf['vote_average'] = df['vote_average'].astype('float32')",
      "metadata": {},
      "outputs": [],
      "execution_count": 93
    },
    {
      "cell_type": "markdown",
      "source": "### Removing duplicate rows",
      "metadata": {}
    },
    {
      "cell_type": "code",
      "source": "# drop duplicates in existing data frame (df)\ndf.drop_duplicates(inplace=True)\n# Confirming number of rows after deduplication\ndf.count().max()",
      "metadata": {},
      "outputs": [
        {
          "data": {
            "text/plain": [
              "10865"
            ]
          },
          "execution_count": 136,
          "metadata": {},
          "output_type": "execute_result"
        }
      ],
      "execution_count": 136
    },
    {
      "cell_type": "markdown",
      "source": "There was only a single duplicate row.",
      "metadata": {}
    },
    {
      "cell_type": "markdown",
      "source": "### Filtering out rows with no revenue_adj data\nFilms with zero values in the revenue_adj should be excluded. In order for a movie to be included or excluded as a \"high revenue\" film, we must only include films which can be compared on the same terms - 2010 inflation adjusted dollars.",
      "metadata": {}
    },
    {
      "cell_type": "code",
      "source": "filtered_df = df.query('revenue_adj > 0')",
      "metadata": {},
      "outputs": [],
      "execution_count": 94
    },
    {
      "cell_type": "markdown",
      "source": "This filters out all movies without revenue_adj numbers.",
      "metadata": {}
    },
    {
      "cell_type": "markdown",
      "source": "### Check how many movies have a run time over 200 minutes",
      "metadata": {}
    },
    {
      "cell_type": "code",
      "source": "filtered_df.query('runtime > 200').count().max()",
      "metadata": {
        "scrolled": true
      },
      "outputs": [
        {
          "data": {
            "text/plain": [
              "10"
            ]
          },
          "execution_count": 138,
          "metadata": {},
          "output_type": "execute_result"
        }
      ],
      "execution_count": 138
    },
    {
      "cell_type": "markdown",
      "source": "There are only 10 movies with runtimes longer than 200 minutes. Since there are only 10 samples out of several thousand, we can't make any reasonable conclusions about these outliers.",
      "metadata": {}
    },
    {
      "cell_type": "code",
      "source": "filtered_df_rt = filtered_df.query('runtime <= 200') # filtering to movies with 200 minute or less runtime",
      "metadata": {},
      "outputs": [],
      "execution_count": 96
    },
    {
      "cell_type": "markdown",
      "source": "### Check number of remaining rows in filtered data",
      "metadata": {}
    },
    {
      "cell_type": "code",
      "source": "filtered_df_rt.count().max()",
      "metadata": {},
      "outputs": [
        {
          "data": {
            "text/plain": [
              "4839"
            ]
          },
          "execution_count": 139,
          "metadata": {},
          "output_type": "execute_result"
        }
      ],
      "execution_count": 139
    },
    {
      "cell_type": "markdown",
      "source": "This is a large reduction and is very close to the number of unique values in the revenue_adj column, as expected. A small difference is logical - there is no reason different movies cannot have the same amount of revenue.",
      "metadata": {}
    },
    {
      "cell_type": "markdown",
      "source": "<a id='eda'></a>\n## Exploratory Data Analysis\n\n### Research Question: What traits predict a film has a higher chance of being a \"blockbuster\"?",
      "metadata": {}
    },
    {
      "cell_type": "markdown",
      "source": "### Overview of Filtered Data",
      "metadata": {}
    },
    {
      "cell_type": "code",
      "source": "filtered_df_rt.describe()",
      "metadata": {},
      "outputs": [
        {
          "data": {
            "text/html": [
              "<div>\n",
              "<style scoped>\n",
              "    .dataframe tbody tr th:only-of-type {\n",
              "        vertical-align: middle;\n",
              "    }\n",
              "\n",
              "    .dataframe tbody tr th {\n",
              "        vertical-align: top;\n",
              "    }\n",
              "\n",
              "    .dataframe thead th {\n",
              "        text-align: right;\n",
              "    }\n",
              "</style>\n",
              "<table border=\"1\" class=\"dataframe\">\n",
              "  <thead>\n",
              "    <tr style=\"text-align: right;\">\n",
              "      <th></th>\n",
              "      <th>id</th>\n",
              "      <th>popularity</th>\n",
              "      <th>budget</th>\n",
              "      <th>revenue</th>\n",
              "      <th>runtime</th>\n",
              "      <th>vote_count</th>\n",
              "      <th>vote_average</th>\n",
              "      <th>release_year</th>\n",
              "      <th>budget_adj</th>\n",
              "      <th>revenue_adj</th>\n",
              "    </tr>\n",
              "  </thead>\n",
              "  <tbody>\n",
              "    <tr>\n",
              "      <th>count</th>\n",
              "      <td>4839.00</td>\n",
              "      <td>4839.00</td>\n",
              "      <td>4839.00</td>\n",
              "      <td>4839.00</td>\n",
              "      <td>4839.00</td>\n",
              "      <td>4839.00</td>\n",
              "      <td>4839.00</td>\n",
              "      <td>4839.00</td>\n",
              "      <td>4839.00</td>\n",
              "      <td>4839.00</td>\n",
              "    </tr>\n",
              "    <tr>\n",
              "      <th>mean</th>\n",
              "      <td>44577.21</td>\n",
              "      <td>1.04</td>\n",
              "      <td>29568620.84</td>\n",
              "      <td>89118441.30</td>\n",
              "      <td>107.61</td>\n",
              "      <td>435.76</td>\n",
              "      <td>6.15</td>\n",
              "      <td>2000.94</td>\n",
              "      <td>35089421.98</td>\n",
              "      <td>114812365.73</td>\n",
              "    </tr>\n",
              "    <tr>\n",
              "      <th>std</th>\n",
              "      <td>72310.50</td>\n",
              "      <td>1.36</td>\n",
              "      <td>40540033.98</td>\n",
              "      <td>161548246.89</td>\n",
              "      <td>18.45</td>\n",
              "      <td>803.72</td>\n",
              "      <td>0.80</td>\n",
              "      <td>11.55</td>\n",
              "      <td>43671041.42</td>\n",
              "      <td>198144981.34</td>\n",
              "    </tr>\n",
              "    <tr>\n",
              "      <th>min</th>\n",
              "      <td>5.00</td>\n",
              "      <td>0.00</td>\n",
              "      <td>0.00</td>\n",
              "      <td>2.00</td>\n",
              "      <td>15.00</td>\n",
              "      <td>10.00</td>\n",
              "      <td>2.10</td>\n",
              "      <td>1960.00</td>\n",
              "      <td>0.00</td>\n",
              "      <td>2.37</td>\n",
              "    </tr>\n",
              "    <tr>\n",
              "      <th>25%</th>\n",
              "      <td>8290.00</td>\n",
              "      <td>0.39</td>\n",
              "      <td>1650000.00</td>\n",
              "      <td>7716162.50</td>\n",
              "      <td>95.00</td>\n",
              "      <td>46.50</td>\n",
              "      <td>5.60</td>\n",
              "      <td>1994.00</td>\n",
              "      <td>2319150.03</td>\n",
              "      <td>10463697.92</td>\n",
              "    </tr>\n",
              "    <tr>\n",
              "      <th>50%</th>\n",
              "      <td>12155.00</td>\n",
              "      <td>0.68</td>\n",
              "      <td>15000000.00</td>\n",
              "      <td>31853080.00</td>\n",
              "      <td>104.00</td>\n",
              "      <td>147.00</td>\n",
              "      <td>6.20</td>\n",
              "      <td>2004.00</td>\n",
              "      <td>20328008.68</td>\n",
              "      <td>43956661.16</td>\n",
              "    </tr>\n",
              "    <tr>\n",
              "      <th>75%</th>\n",
              "      <td>44024.50</td>\n",
              "      <td>1.21</td>\n",
              "      <td>40000000.00</td>\n",
              "      <td>99982876.50</td>\n",
              "      <td>117.00</td>\n",
              "      <td>435.00</td>\n",
              "      <td>6.70</td>\n",
              "      <td>2010.00</td>\n",
              "      <td>49707425.00</td>\n",
              "      <td>131288137.74</td>\n",
              "    </tr>\n",
              "    <tr>\n",
              "      <th>max</th>\n",
              "      <td>417859.00</td>\n",
              "      <td>32.99</td>\n",
              "      <td>425000000.00</td>\n",
              "      <td>2781505847.00</td>\n",
              "      <td>200.00</td>\n",
              "      <td>9767.00</td>\n",
              "      <td>8.40</td>\n",
              "      <td>2015.00</td>\n",
              "      <td>425000000.00</td>\n",
              "      <td>2827123750.41</td>\n",
              "    </tr>\n",
              "  </tbody>\n",
              "</table>\n",
              "</div>"
            ],
            "text/plain": [
              "             id  popularity       budget       revenue  runtime  vote_count  \\\n",
              "count   4839.00     4839.00      4839.00       4839.00  4839.00     4839.00   \n",
              "mean   44577.21        1.04  29568620.84   89118441.30   107.61      435.76   \n",
              "std    72310.50        1.36  40540033.98  161548246.89    18.45      803.72   \n",
              "min        5.00        0.00         0.00          2.00    15.00       10.00   \n",
              "25%     8290.00        0.39   1650000.00    7716162.50    95.00       46.50   \n",
              "50%    12155.00        0.68  15000000.00   31853080.00   104.00      147.00   \n",
              "75%    44024.50        1.21  40000000.00   99982876.50   117.00      435.00   \n",
              "max   417859.00       32.99 425000000.00 2781505847.00   200.00     9767.00   \n",
              "\n",
              "       vote_average  release_year   budget_adj   revenue_adj  \n",
              "count       4839.00       4839.00      4839.00       4839.00  \n",
              "mean           6.15       2000.94  35089421.98  114812365.73  \n",
              "std            0.80         11.55  43671041.42  198144981.34  \n",
              "min            2.10       1960.00         0.00          2.37  \n",
              "25%            5.60       1994.00   2319150.03   10463697.92  \n",
              "50%            6.20       2004.00  20328008.68   43956661.16  \n",
              "75%            6.70       2010.00  49707425.00  131288137.74  \n",
              "max            8.40       2015.00 425000000.00 2827123750.41  "
            ]
          },
          "execution_count": 101,
          "metadata": {},
          "output_type": "execute_result"
        }
      ],
      "execution_count": 101
    },
    {
      "cell_type": "code",
      "source": "# function to create plots without repeating as much code ... x is the df col for x-axis, y is the df col for y-axis,\n# style is to determine std or sci notation, and style_axis is which axis to apply the style on, label_rot_axis is\n# which access to rotate the labels for values and label_rot_amount is the number of degrees to rotate the label\ndef create_plot(df, x, y, kind, style, style_axis, label_rot_axis, label_rot_amount):\n    ax = df.plot(x=x, y=y, kind=kind)\n    # change values to standard notation\n    ax.ticklabel_format(axis=style_axis, style=style)\n    # need to rotate labels because numbers bunch together\n    ax.tick_params(axis=label_rot_axis, rotation=label_rot_amount) \n    return ax",
      "metadata": {},
      "outputs": [],
      "execution_count": 152
    },
    {
      "cell_type": "markdown",
      "source": "### Using a scatterplot to check for a relationship between adjusted revenue and runtime",
      "metadata": {}
    },
    {
      "cell_type": "code",
      "source": "# create a scatter plot with runtime on the x-axis and adjusted revenue on the y-axis, vals in standard notation\ncreate_plot(filtered_df_rt, 'runtime', 'revenue_adj', 'scatter', 'plain', 'both', 'x', 90)",
      "metadata": {},
      "outputs": [
        {
          "data": {
            "text/plain": [
              "<AxesSubplot: xlabel='runtime', ylabel='revenue_adj'>"
            ]
          },
          "execution_count": 150,
          "metadata": {},
          "output_type": "execute_result"
        },
        {
          "data": {
            "image/png": "[encoded data removed]",
            "text/plain": [
              "<Figure size 640x480 with 1 Axes>"
            ]
          },
          "metadata": {},
          "output_type": "display_data"
        }
      ],
      "execution_count": 150
    },
    {
      "cell_type": "markdown",
      "source": "The scatterplot shows most of the movies with at least \\\\$1 billion of revenue are 120 minutes or longer, and all movies over \\\\$2 billion in revenue are at least 120 minutes long. As you can see, there are plenty of movies of 120 minutes or longer which don't have revenues over \\\\$1 billion - it's important not to misinterpret what I'm saying to mean \"120 minutes or longer guarantees a blockbuster\".",
      "metadata": {}
    },
    {
      "cell_type": "markdown",
      "source": "### Verifying the relationship between run time and adjusted revenue",
      "metadata": {}
    },
    {
      "cell_type": "markdown",
      "source": "#### Count of movies over 120 minutes long with at least \\\\$1 billion in revenue.",
      "metadata": {}
    },
    {
      "cell_type": "code",
      "source": "# filter by runtime >= 120 and revenue_adj >= $ 1 billion\nfiltered_df_rt.query('runtime >= 120').query('revenue_adj >= 1000000000').count().max()",
      "metadata": {},
      "outputs": [
        {
          "data": {
            "text/plain": [
              "32"
            ]
          },
          "execution_count": 134,
          "metadata": {},
          "output_type": "execute_result"
        }
      ],
      "execution_count": 134
    },
    {
      "cell_type": "markdown",
      "source": "#### Count of movies under 120 minutes long with at least \\\\$1 billion in revenue",
      "metadata": {}
    },
    {
      "cell_type": "code",
      "source": "# filter by runtime < 120 and revenue_adj >= $ 1 billion\nfiltered_df_rt.query('runtime < 120').query('revenue_adj >= 1000000000').count().max()",
      "metadata": {},
      "outputs": [
        {
          "data": {
            "text/plain": [
              "11"
            ]
          },
          "execution_count": 135,
          "metadata": {},
          "output_type": "execute_result"
        }
      ],
      "execution_count": 135
    },
    {
      "cell_type": "markdown",
      "source": "#### Shortest runtime of a \"mega\" blockbuster",
      "metadata": {}
    },
    {
      "cell_type": "code",
      "source": "# grab min value in runtime column, while filtering by revenue of at least $2 billion\nfiltered_df_rt.query('revenue_adj >= 2000000000')['runtime'].min()",
      "metadata": {
        "scrolled": true
      },
      "outputs": [
        {
          "data": {
            "text/plain": [
              "121"
            ]
          },
          "execution_count": 140,
          "metadata": {},
          "output_type": "execute_result"
        }
      ],
      "execution_count": 140
    },
    {
      "cell_type": "markdown",
      "source": "The above shows a clearly defined relationship between runtime and high revenue.\n* 32 movies with a run time longer than 120 minutes were blockbusters.\n* Only 11 movies with a run time shorter than 120 minutes were blockbusters.\n* The shortest run time for a \"mega\" blockbuster was 121 minutes.",
      "metadata": {}
    },
    {
      "cell_type": "markdown",
      "source": "### Using a scatterplot to look for a relationship between adjusted budget and adjusted revenue",
      "metadata": {}
    },
    {
      "cell_type": "code",
      "source": "# create a scatter plot with x-axis being the adjusted budget and y-axis being the adjusted revenue\ncreate_plot(filtered_df_rt, 'budget_adj', 'revenue_adj', 'scatter', 'plain', 'both', 'x', 90)\n",
      "metadata": {
        "scrolled": true
      },
      "outputs": [
        {
          "data": {
            "text/plain": [
              "<AxesSubplot: xlabel='budget_adj', ylabel='revenue_adj'>"
            ]
          },
          "execution_count": 156,
          "metadata": {},
          "output_type": "execute_result"
        },
        {
          "data": {
            "image/png": "[encoded data removed]",
            "text/plain": [
              "<Figure size 640x480 with 1 Axes>"
            ]
          },
          "metadata": {},
          "output_type": "display_data"
        }
      ],
      "execution_count": 156
    },
    {
      "cell_type": "markdown",
      "source": "The scatterplot above shows the relationship between adjusted budget and adjusted revenue is strong. We can verify this with the following code, comparing the number of blockbusters with budgets under \\\\$50 million and over \\\\$50 million. As with long runtimes, it's important to understand a high budget does not guarantee a blockbuster, it only increases the chances.",
      "metadata": {}
    },
    {
      "cell_type": "code",
      "source": "filtered_df_rt.query('budget_adj <= 50000000').query('revenue_adj >= 1000000000').count().max() # movies with a budget under $140 mil",
      "metadata": {},
      "outputs": [
        {
          "data": {
            "text/plain": [
              "9"
            ]
          },
          "execution_count": 163,
          "metadata": {},
          "output_type": "execute_result"
        }
      ],
      "execution_count": 163
    },
    {
      "cell_type": "code",
      "source": "filtered_df_rt.query('budget_adj > 50000000').query('revenue_adj >= 1000000000').count().max() # movies with a budget over $140 mil",
      "metadata": {},
      "outputs": [
        {
          "data": {
            "text/plain": [
              "34"
            ]
          },
          "execution_count": 162,
          "metadata": {},
          "output_type": "execute_result"
        }
      ],
      "execution_count": 162
    },
    {
      "cell_type": "markdown",
      "source": "This data confirms what we're seeing on the scatterplot. 34 movies with budgets of at least \\\\$50 million were blockbusters, while only 9 with budgets under \\\\$50 million were blockbusters.",
      "metadata": {}
    },
    {
      "cell_type": "markdown",
      "source": "### What if we create a bubble chart using budget as the third variable (3D)?",
      "metadata": {}
    },
    {
      "cell_type": "code",
      "source": "# Creates a bubble chart with runtime as x axis, revenue_adj as y axis, budget_adj as z axis which determines bubble size\n# in conjunction with the multiplier. Since the budget numbers are very large, we must use a very small multiplier to\n# prevent the bubbles from filling the entire chart space ... alpha determines opacity of the bubbles\nplt.scatter(filtered_df_rt['runtime'], filtered_df_rt['revenue_adj'], s=filtered_df_rt['budget_adj']*.0000005, alpha=0.5)\n# change values to standard notation\nplt.ticklabel_format(style='plain', axis='both')\nplt.xlabel('Runtime')\nplt.ylabel('Adjusted Revenue')\n# show the bubble chart\nplt.show()",
      "metadata": {
        "scrolled": true
      },
      "outputs": [
        {
          "data": {
            "image/png": "[encoded data removed]",
            "text/plain": [
              "<Figure size 640x480 with 1 Axes>"
            ]
          },
          "metadata": {},
          "output_type": "display_data"
        }
      ],
      "execution_count": 210
    },
    {
      "cell_type": "markdown",
      "source": "The bubble chart above shows the following.\n* The bigger the bubble, the larger the budget.\n* A high budget and long runtime maximizes the chance a film will become a blockbuster.\n* A short run time decreases the chance a film will become a blockbuster, even when the budget is high.\n* A low budget decreases the chance a film will become a blockbuster, even when the run time is high.",
      "metadata": {}
    },
    {
      "cell_type": "code",
      "source": "filtered_df_rt.query('revenue_adj >= 1000000000').query('budget_adj >= 50000000').query('runtime < 120').count().max()",
      "metadata": {
        "scrolled": true
      },
      "outputs": [
        {
          "data": {
            "text/plain": [
              "7"
            ]
          },
          "execution_count": 123,
          "metadata": {},
          "output_type": "execute_result"
        }
      ],
      "execution_count": 123
    },
    {
      "cell_type": "code",
      "source": "filtered_df_rt.query('revenue_adj >= 1000000000').query('budget_adj >= 50000000').query('runtime >= 120').count().max()",
      "metadata": {},
      "outputs": [
        {
          "data": {
            "text/plain": [
              "27"
            ]
          },
          "execution_count": 124,
          "metadata": {},
          "output_type": "execute_result"
        }
      ],
      "execution_count": 124
    },
    {
      "cell_type": "code",
      "source": "filtered_df_rt.query('revenue_adj >= 1000000000').query('budget_adj < 50000000').query('runtime < 120').count().max()",
      "metadata": {},
      "outputs": [
        {
          "data": {
            "text/plain": [
              "4"
            ]
          },
          "execution_count": 126,
          "metadata": {},
          "output_type": "execute_result"
        }
      ],
      "execution_count": 126
    },
    {
      "cell_type": "code",
      "source": "filtered_df_rt.query('revenue_adj >= 1000000000').query('budget_adj < 50000000').query('runtime >= 120').count().max()",
      "metadata": {},
      "outputs": [
        {
          "data": {
            "text/plain": [
              "5"
            ]
          },
          "execution_count": 127,
          "metadata": {},
          "output_type": "execute_result"
        }
      ],
      "execution_count": 127
    },
    {
      "cell_type": "markdown",
      "source": "The above code confirms what we're seeing in the bubble chart by telling us the following.\n* 27 movies with high budgets and long run time were blockbusters.\n* 7 movies with high budgets and short run time were blockbusters.\n* 5 movies with low budgets and long run time were blockbusters.\n* 4 movies with low budgets and short run time were blockbusters.",
      "metadata": {}
    },
    {
      "cell_type": "markdown",
      "source": "### How many films have a budget of at least \\\\$50 million and a runtime of at least 120 minutes?",
      "metadata": {}
    },
    {
      "cell_type": "code",
      "source": "filtered_df.query('budget_adj >= 50000000').query('runtime >= 120').count().max() ## output count of big budget films",
      "metadata": {
        "scrolled": true
      },
      "outputs": [
        {
          "data": {
            "text/plain": [
              "485"
            ]
          },
          "execution_count": 168,
          "metadata": {},
          "output_type": "execute_result"
        }
      ],
      "execution_count": 168
    },
    {
      "cell_type": "markdown",
      "source": "485 films have at least \\\\$50 million in the budget and a runtime of at least 120 minutes.",
      "metadata": {}
    },
    {
      "cell_type": "markdown",
      "source": "### A 1D investigation: How many movies are blockbusters?",
      "metadata": {}
    },
    {
      "cell_type": "code",
      "source": "# create a histogram with frequency buckets for different revenue amounts\nax = filtered_df.plot(y='revenue_adj', kind='hist')\n# style plain changes values to std notation\nax.ticklabel_format(axis='both', style='plain')\n# need to rotate labels because numbers bunch together\nax.tick_params(axis='x', rotation=90)",
      "metadata": {
        "scrolled": true
      },
      "outputs": [
        {
          "data": {
            "image/png": "[encoded data removed]",
            "text/plain": [
              "<Figure size 640x480 with 1 Axes>"
            ]
          },
          "metadata": {},
          "output_type": "display_data"
        }
      ],
      "execution_count": 212
    },
    {
      "cell_type": "markdown",
      "source": "The histogram above shows very few films reach over \\\\$1 billion in revenue. The vast majority don't even reach \\\\$500 million. The code below will give us an exact number.",
      "metadata": {}
    },
    {
      "cell_type": "code",
      "source": "filtered_df.query('revenue_adj >= 1000000000').count().max() ## output count of blockbuster films",
      "metadata": {
        "scrolled": true
      },
      "outputs": [
        {
          "data": {
            "text/plain": [
              "44"
            ]
          },
          "execution_count": 213,
          "metadata": {},
          "output_type": "execute_result"
        }
      ],
      "execution_count": 213
    },
    {
      "cell_type": "markdown",
      "source": "There are only 44 blockbuster films in the data set.",
      "metadata": {}
    },
    {
      "cell_type": "markdown",
      "source": "<a id='conclusions'></a>\n## Conclusions\nMy conclusion is simple. Films with high budgets and long run times have a higher *chance* of becoming a blockbuster. When either factor is reduced, it's less likely the film will be a blockbuster. This is clear from looking at the bubble chart and statistics output following the chart.\n\nIt's notable that among 485 films with large budgets and a long runtime, only 44 were blockbusters. It's important to understand that is still only a 9% chance, but the rate of success is still higher compared to films which don't have a big budget and long runtime.",
      "metadata": {}
    },
    {
      "cell_type": "markdown",
      "source": "<a id='limitations'></a>\n## Limitations \nThe data set is limited to movies created prior to 2016. Due to advancements in technology, particularly recent advancements in AI, the trend of needing a high budget might shift.\n\nAn additional limitation is the lack of comparison between older and newer films, which could impact the results. Additional research could be done to see whether this trend is accurate for both older and newer films.\n\nThere might be outliers in films with short run times, which I did not take into consideration for this exercise.",
      "metadata": {}
    }
  ]
}